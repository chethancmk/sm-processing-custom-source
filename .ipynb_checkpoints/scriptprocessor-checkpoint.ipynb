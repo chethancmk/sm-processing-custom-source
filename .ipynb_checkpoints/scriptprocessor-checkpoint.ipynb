{
 "cells": [
  {
   "cell_type": "code",
   "execution_count": null,
   "id": "optimum-buying",
   "metadata": {},
   "outputs": [],
   "source": [
    "import boto3\n",
    "import sagemaker\n",
    "from sagemaker import get_execution_role\n",
    "\n",
    "region = boto3.session.Session().region_name\n",
    "\n",
    "role = get_execution_role()"
   ]
  },
  {
   "cell_type": "code",
   "execution_count": null,
   "id": "greater-bidder",
   "metadata": {},
   "outputs": [],
   "source": [
    "%%writefile src/Dockerfile\n",
    "\n",
    "FROM python:3.7-slim-buster\n",
    "COPY . /src\n",
    "WORKDIR /src\n",
    "RUN pip3 install -r /src/requirements.txt\n",
    "ENV PYTHONUNBUFFERED=TRUE\n",
    "ENTRYPOINT [\"python3\"]"
   ]
  },
  {
   "cell_type": "code",
   "execution_count": null,
   "id": "increasing-wichita",
   "metadata": {},
   "outputs": [],
   "source": [
    "account_id = boto3.client('sts').get_caller_identity().get('Account')\n",
    "ecr_uri = '{}.dkr.ecr.{}.amazonaws.com'.format(account_id, region)\n",
    "ecr_repository = 'sagemaker-processing-container'\n",
    "tag = ':latest'\n",
    "processing_repository_uri = '{}.dkr.ecr.{}.amazonaws.com/{}'.format(account_id, region, ecr_repository + tag)"
   ]
  },
  {
   "cell_type": "code",
   "execution_count": null,
   "id": "compressed-bread",
   "metadata": {},
   "outputs": [],
   "source": [
    "# Create Repo, Throws error is the repo is already present. Ignore and move forward\n",
    "!aws ecr create-repository --repository-name $ecr_repository"
   ]
  },
  {
   "cell_type": "code",
   "execution_count": null,
   "id": "atlantic-appreciation",
   "metadata": {},
   "outputs": [],
   "source": [
    "print(processing_repository_uri)\n",
    "\n",
    "# Create ECR repository and push docker image\n",
    "!docker build -t $ecr_repository src\n",
    "!aws ecr get-login-password --region ap-south-1 | docker login --username AWS --password-stdin $ecr_uri\n",
    "!docker tag {ecr_repository + tag} $processing_repository_uri"
   ]
  },
  {
   "cell_type": "code",
   "execution_count": null,
   "id": "velvet-harris",
   "metadata": {},
   "outputs": [],
   "source": [
    "!docker push $processing_repository_uri"
   ]
  },
  {
   "cell_type": "code",
   "execution_count": null,
   "id": "legal-biography",
   "metadata": {},
   "outputs": [],
   "source": [
    "# Provide the startup script pre-processing py, this is the actual code that gets executed.\n",
    "from sagemaker.processing import ScriptProcessor, ProcessingInput, ProcessingOutput\n",
    "\n",
    "script_processor = ScriptProcessor(command=['python3', '/src/preprocessing.py'],\n",
    "                image_uri=processing_repository_uri\n",
    "                role=role,\n",
    "                instance_count=1,\n",
    "                instance_type='ml.m5.xlarge')"
   ]
  },
  {
   "cell_type": "code",
   "execution_count": null,
   "id": "communist-nutrition",
   "metadata": {},
   "outputs": [],
   "source": [
    "# Input and Output files\n",
    "input_data = 's3://sagemaker-sample-data-{}/processing/census/census-income.csv'.format(region)\n",
    "output_data = 's3://sagemaker-ck-data/processing/output'"
   ]
  },
  {
   "cell_type": "code",
   "execution_count": null,
   "id": "hundred-plaza",
   "metadata": {},
   "outputs": [],
   "source": [
    "# Process the files\n",
    "from sagemaker.processing import ProcessingInput, ProcessingOutput\n",
    "script_processor.run(\n",
    "    code='src/preprocessing.py',\n",
    "    inputs=[\n",
    "        ProcessingInput(source=input_data,destination='/opt/ml/processing/input')\n",
    "    ],\n",
    "    outputs=[\n",
    "        ProcessingOutput(source='/opt/ml/processing/output/train',output_name='train_data',destination = output_data),\n",
    "        ProcessingOutput(source='/opt/ml/processing/output/validation',output_name='validation_data',destination = output_data),\n",
    "        ProcessingOutput(source='/opt/ml/processing/output/test',output_name='test_data',destination = output_data)\n",
    "    ],\n",
    "    arguments=['--train-test-split-ratio', '0.2']\n",
    ")"
   ]
  },
  {
   "cell_type": "code",
   "execution_count": null,
   "id": "diverse-defense",
   "metadata": {},
   "outputs": [],
   "source": []
  },
  {
   "cell_type": "code",
   "execution_count": null,
   "id": "irish-wagon",
   "metadata": {},
   "outputs": [],
   "source": []
  }
 ],
 "metadata": {
  "kernelspec": {
   "display_name": "conda_python3",
   "language": "python",
   "name": "conda_python3"
  },
  "language_info": {
   "codemirror_mode": {
    "name": "ipython",
    "version": 3
   },
   "file_extension": ".py",
   "mimetype": "text/x-python",
   "name": "python",
   "nbconvert_exporter": "python",
   "pygments_lexer": "ipython3",
   "version": "3.6.13"
  }
 },
 "nbformat": 4,
 "nbformat_minor": 5
}
