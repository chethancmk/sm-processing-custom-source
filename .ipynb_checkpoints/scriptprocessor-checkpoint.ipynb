{
 "cells": [
  {
   "cell_type": "code",
   "execution_count": 109,
   "id": "delayed-prototype",
   "metadata": {},
   "outputs": [],
   "source": [
    "import boto3\n",
    "import sagemaker\n",
    "from sagemaker import get_execution_role\n",
    "\n",
    "region = boto3.session.Session().region_name\n",
    "\n",
    "role = get_execution_role()"
   ]
  },
  {
   "cell_type": "code",
   "execution_count": 110,
   "id": "innovative-interim",
   "metadata": {},
   "outputs": [
    {
     "name": "stdout",
     "output_type": "stream",
     "text": [
      "Overwriting src/Dockerfile\n"
     ]
    }
   ],
   "source": [
    "%%writefile src/Dockerfile\n",
    "\n",
    "FROM python:3.7-slim-buster\n",
    "COPY . /src\n",
    "WORKDIR /src\n",
    "RUN pip3 install -r /src/requirements.txt\n",
    "ENV PYTHONUNBUFFERED=TRUE\n",
    "ENTRYPOINT [\"python3\"]"
   ]
  },
  {
   "cell_type": "code",
   "execution_count": 111,
   "id": "ceramic-concrete",
   "metadata": {},
   "outputs": [],
   "source": [
    "account_id = boto3.client('sts').get_caller_identity().get('Account')\n",
    "ecr_uri = '{}.dkr.ecr.{}.amazonaws.com'.format(account_id, region)\n",
    "ecr_repository = 'sagemaker-processing-container'\n",
    "tag = ':latest'\n",
    "processing_repository_uri = '{}.dkr.ecr.{}.amazonaws.com/{}'.format(account_id, region, ecr_repository + tag)"
   ]
  },
  {
   "cell_type": "code",
   "execution_count": 112,
   "id": "national-principal",
   "metadata": {},
   "outputs": [
    {
     "name": "stdout",
     "output_type": "stream",
     "text": [
      "\r\n",
      "An error occurred (RepositoryAlreadyExistsException) when calling the CreateRepository operation: The repository with name 'sagemaker-processing-container' already exists in the registry with id '895300689201'\r\n"
     ]
    }
   ],
   "source": [
    "# Create Repo, Throws error is the repo is already present. Ignore and move forward\n",
    "!aws ecr create-repository --repository-name $ecr_repository"
   ]
  },
  {
   "cell_type": "code",
   "execution_count": 113,
   "id": "olive-proposition",
   "metadata": {},
   "outputs": [
    {
     "name": "stdout",
     "output_type": "stream",
     "text": [
      "895300689201.dkr.ecr.ap-south-1.amazonaws.com/sagemaker-processing-container:latest\n",
      "Sending build context to Docker daemon  7.168kB\n",
      "Step 1/6 : FROM python:3.7-slim-buster\n",
      " ---> 30a42f143b4e\n",
      "Step 2/6 : COPY . /src\n",
      " ---> a03d6609652f\n",
      "Step 3/6 : WORKDIR /src\n",
      " ---> Running in 7074bb02c82d\n",
      "Removing intermediate container 7074bb02c82d\n",
      " ---> 5216dede4255\n",
      "Step 4/6 : RUN pip3 install -r /src/requirements.txt\n",
      " ---> Running in 9221eb333399\n",
      "Collecting pandas==0.25.3\n",
      "  Downloading pandas-0.25.3-cp37-cp37m-manylinux1_x86_64.whl (10.4 MB)\n",
      "Collecting scikit-learn==0.21.3\n",
      "  Downloading scikit_learn-0.21.3-cp37-cp37m-manylinux1_x86_64.whl (6.7 MB)\n",
      "Collecting pytz>=2017.2\n",
      "  Downloading pytz-2021.1-py2.py3-none-any.whl (510 kB)\n",
      "Collecting python-dateutil>=2.6.1\n",
      "  Downloading python_dateutil-2.8.1-py2.py3-none-any.whl (227 kB)\n",
      "Collecting numpy>=1.13.3\n",
      "  Downloading numpy-1.20.2-cp37-cp37m-manylinux2010_x86_64.whl (15.3 MB)\n",
      "Collecting scipy>=0.17.0\n",
      "  Downloading scipy-1.6.2-cp37-cp37m-manylinux1_x86_64.whl (27.4 MB)\n",
      "Collecting joblib>=0.11\n",
      "  Downloading joblib-1.0.1-py3-none-any.whl (303 kB)\n",
      "Collecting six>=1.5\n",
      "  Downloading six-1.15.0-py2.py3-none-any.whl (10 kB)\n",
      "Installing collected packages: six, numpy, scipy, pytz, python-dateutil, joblib, scikit-learn, pandas\n",
      "Successfully installed joblib-1.0.1 numpy-1.20.2 pandas-0.25.3 python-dateutil-2.8.1 pytz-2021.1 scikit-learn-0.21.3 scipy-1.6.2 six-1.15.0\n",
      "Removing intermediate container 9221eb333399\n",
      " ---> 39f4e8f172f9\n",
      "Step 5/6 : ENV PYTHONUNBUFFERED=TRUE\n",
      " ---> Running in 3f8ea55bac28\n",
      "Removing intermediate container 3f8ea55bac28\n",
      " ---> 3202868717be\n",
      "Step 6/6 : ENTRYPOINT [\"python3\"]\n",
      " ---> Running in 1c9ac40998f7\n",
      "Removing intermediate container 1c9ac40998f7\n",
      " ---> 766cdffa7441\n",
      "Successfully built 766cdffa7441\n",
      "Successfully tagged sagemaker-processing-container:latest\n",
      "WARNING! Your password will be stored unencrypted in /home/ec2-user/.docker/config.json.\n",
      "Configure a credential helper to remove this warning. See\n",
      "https://docs.docker.com/engine/reference/commandline/login/#credentials-store\n",
      "\n",
      "Login Succeeded\n"
     ]
    }
   ],
   "source": [
    "print(processing_repository_uri)\n",
    "\n",
    "# Create ECR repository and push docker image\n",
    "!docker build -t $ecr_repository src\n",
    "!aws ecr get-login-password --region ap-south-1 | docker login --username AWS --password-stdin $ecr_uri\n",
    "!docker tag {ecr_repository + tag} $processing_repository_uri"
   ]
  },
  {
   "cell_type": "code",
   "execution_count": 114,
   "id": "minimal-prophet",
   "metadata": {},
   "outputs": [
    {
     "name": "stdout",
     "output_type": "stream",
     "text": [
      "The push refers to repository [895300689201.dkr.ecr.ap-south-1.amazonaws.com/sagemaker-processing-container]\n",
      "\n",
      "\u001b[1B8ce1e414: Preparing \n",
      "\u001b[1B3459816c: Preparing \n",
      "\u001b[1B10e872c2: Preparing \n",
      "\u001b[1B6bb9ffea: Preparing \n",
      "\u001b[1B663e622b: Preparing \n",
      "\u001b[1B845af46d: Preparing \n",
      "\u001b[7B8ce1e414: Pushed   299.6MB/293.9MB\u001b[6A\u001b[2K\u001b[7A\u001b[2K\u001b[7A\u001b[2K\u001b[6A\u001b[2K\u001b[7A\u001b[2K\u001b[7A\u001b[2K\u001b[7A\u001b[2K\u001b[7A\u001b[2K\u001b[7A\u001b[2K\u001b[7A\u001b[2K\u001b[7A\u001b[2K\u001b[7A\u001b[2K\u001b[7A\u001b[2K\u001b[7A\u001b[2K\u001b[7A\u001b[2K\u001b[7A\u001b[2K\u001b[7A\u001b[2K\u001b[7A\u001b[2K\u001b[7A\u001b[2K\u001b[7A\u001b[2K\u001b[7A\u001b[2K\u001b[7A\u001b[2K\u001b[7A\u001b[2K\u001b[7A\u001b[2K\u001b[7A\u001b[2K\u001b[7A\u001b[2K\u001b[7A\u001b[2K\u001b[7A\u001b[2K\u001b[7A\u001b[2K\u001b[7A\u001b[2K\u001b[7A\u001b[2K\u001b[7A\u001b[2K\u001b[7A\u001b[2K\u001b[7A\u001b[2K\u001b[7A\u001b[2K\u001b[7A\u001b[2K\u001b[7A\u001b[2K\u001b[7A\u001b[2K\u001b[7A\u001b[2K\u001b[7A\u001b[2K\u001b[7A\u001b[2K\u001b[7A\u001b[2K\u001b[7A\u001b[2K\u001b[7A\u001b[2K\u001b[7A\u001b[2K\u001b[7A\u001b[2K\u001b[7A\u001b[2K\u001b[7A\u001b[2K\u001b[7A\u001b[2K\u001b[7A\u001b[2K\u001b[7A\u001b[2K\u001b[7A\u001b[2K\u001b[7A\u001b[2K\u001b[7A\u001b[2K\u001b[7A\u001b[2K\u001b[7A\u001b[2K\u001b[7A\u001b[2K\u001b[7A\u001b[2K\u001b[7A\u001b[2K\u001b[7A\u001b[2K\u001b[7A\u001b[2K\u001b[7A\u001b[2K\u001b[7A\u001b[2K\u001b[7A\u001b[2K\u001b[7A\u001b[2K\u001b[7A\u001b[2K\u001b[7A\u001b[2K\u001b[7A\u001b[2K\u001b[7A\u001b[2K\u001b[7A\u001b[2K\u001b[7A\u001b[2K\u001b[7A\u001b[2K\u001b[7A\u001b[2K\u001b[7A\u001b[2K\u001b[7A\u001b[2K\u001b[7A\u001b[2K\u001b[7A\u001b[2K\u001b[7A\u001b[2K\u001b[7A\u001b[2K\u001b[7A\u001b[2K\u001b[7A\u001b[2K\u001b[7A\u001b[2K\u001b[7A\u001b[2K\u001b[7A\u001b[2K\u001b[7A\u001b[2K\u001b[7A\u001b[2K\u001b[7A\u001b[2K\u001b[7A\u001b[2K\u001b[7A\u001b[2K\u001b[7A\u001b[2K\u001b[7A\u001b[2K\u001b[7A\u001b[2K\u001b[7A\u001b[2K\u001b[7A\u001b[2K\u001b[7A\u001b[2K\u001b[7A\u001b[2K\u001b[7A\u001b[2K\u001b[7A\u001b[2K\u001b[7A\u001b[2K\u001b[7A\u001b[2K\u001b[7A\u001b[2K\u001b[7A\u001b[2K\u001b[7A\u001b[2K\u001b[7A\u001b[2K\u001b[7A\u001b[2K\u001b[7A\u001b[2K\u001b[7A\u001b[2K\u001b[7A\u001b[2K\u001b[7A\u001b[2K\u001b[7A\u001b[2K\u001b[7A\u001b[2K\u001b[7A\u001b[2K\u001b[7A\u001b[2K\u001b[7A\u001b[2K\u001b[7A\u001b[2K\u001b[7A\u001b[2K\u001b[7A\u001b[2K\u001b[7A\u001b[2K\u001b[7A\u001b[2K\u001b[7A\u001b[2K\u001b[7A\u001b[2K\u001b[7A\u001b[2K\u001b[7A\u001b[2K\u001b[7A\u001b[2K\u001b[7A\u001b[2K\u001b[7A\u001b[2K\u001b[7A\u001b[2K\u001b[7A\u001b[2K\u001b[7A\u001b[2K\u001b[7A\u001b[2Klatest: digest: sha256:034edf85fc6d35117341ee9c5eec511d6dfe79f909b7617600ffb870e9c2b802 size: 1791\n"
     ]
    }
   ],
   "source": [
    "!docker push $processing_repository_uri"
   ]
  },
  {
   "cell_type": "code",
   "execution_count": 115,
   "id": "chinese-lover",
   "metadata": {},
   "outputs": [],
   "source": [
    "# Provide the startup script pre-processing py, this is the actual code that gets executed.\n",
    "from sagemaker.processing import ScriptProcessor, ProcessingInput, ProcessingOutput\n",
    "\n",
    "script_processor = ScriptProcessor(command=['python3', '/src/preprocessing.py'],\n",
    "                image_uri=processing_repository_uri\n",
    "                role=role,\n",
    "                instance_count=1,\n",
    "                instance_type='ml.m5.xlarge')"
   ]
  },
  {
   "cell_type": "code",
   "execution_count": 116,
   "id": "julian-salon",
   "metadata": {},
   "outputs": [],
   "source": [
    "# Input and Output files\n",
    "input_data = 's3://sagemaker-sample-data-{}/processing/census/census-income.csv'.format(region)\n",
    "output_data = 's3://sagemaker-ck-data/processing/output'"
   ]
  },
  {
   "cell_type": "code",
   "execution_count": null,
   "id": "indirect-leonard",
   "metadata": {},
   "outputs": [
    {
     "name": "stdout",
     "output_type": "stream",
     "text": [
      "\n",
      "Job Name:  sagemaker-processing-container-2021-04-13-07-45-59-719\n",
      "Inputs:  [{'InputName': 'input-1', 'AppManaged': False, 'S3Input': {'S3Uri': 's3://sagemaker-sample-data-ap-south-1/processing/census/census-income.csv', 'LocalPath': '/opt/ml/processing/input', 'S3DataType': 'S3Prefix', 'S3InputMode': 'File', 'S3DataDistributionType': 'FullyReplicated', 'S3CompressionType': 'None'}}, {'InputName': 'code', 'AppManaged': False, 'S3Input': {'S3Uri': 's3://sagemaker-ap-south-1-895300689201/sagemaker-processing-container-2021-04-13-07-45-59-719/input/code/preprocessing.py', 'LocalPath': '/opt/ml/processing/input/code', 'S3DataType': 'S3Prefix', 'S3InputMode': 'File', 'S3DataDistributionType': 'FullyReplicated', 'S3CompressionType': 'None'}}]\n",
      "Outputs:  [{'OutputName': 'train_data', 'AppManaged': False, 'S3Output': {'S3Uri': 's3://sagemaker-ck-data/processing/output', 'LocalPath': '/opt/ml/processing/output/train', 'S3UploadMode': 'EndOfJob'}}, {'OutputName': 'validation_data', 'AppManaged': False, 'S3Output': {'S3Uri': 's3://sagemaker-ck-data/processing/output', 'LocalPath': '/opt/ml/processing/output/validation', 'S3UploadMode': 'EndOfJob'}}, {'OutputName': 'test_data', 'AppManaged': False, 'S3Output': {'S3Uri': 's3://sagemaker-ck-data/processing/output', 'LocalPath': '/opt/ml/processing/output/test', 'S3UploadMode': 'EndOfJob'}}]\n",
      "................."
     ]
    }
   ],
   "source": [
    "# Process the files\n",
    "from sagemaker.processing import ProcessingInput, ProcessingOutput\n",
    "script_processor.run(\n",
    "    code='src/preprocessing.py',\n",
    "    inputs=[\n",
    "        ProcessingInput(source=input_data,destination='/opt/ml/processing/input')\n",
    "    ],\n",
    "    outputs=[\n",
    "        ProcessingOutput(source='/opt/ml/processing/output/train',output_name='train_data',destination = output_data),\n",
    "        ProcessingOutput(source='/opt/ml/processing/output/validation',output_name='validation_data',destination = output_data),\n",
    "        ProcessingOutput(source='/opt/ml/processing/output/test',output_name='test_data',destination = output_data)\n",
    "    ],\n",
    "    arguments=['--train-test-split-ratio', '0.2']\n",
    ")"
   ]
  },
  {
   "cell_type": "code",
   "execution_count": null,
   "id": "decimal-dublin",
   "metadata": {},
   "outputs": [],
   "source": []
  },
  {
   "cell_type": "code",
   "execution_count": null,
   "id": "quantitative-beach",
   "metadata": {},
   "outputs": [],
   "source": []
  }
 ],
 "metadata": {
  "kernelspec": {
   "display_name": "conda_python3",
   "language": "python",
   "name": "conda_python3"
  },
  "language_info": {
   "codemirror_mode": {
    "name": "ipython",
    "version": 3
   },
   "file_extension": ".py",
   "mimetype": "text/x-python",
   "name": "python",
   "nbconvert_exporter": "python",
   "pygments_lexer": "ipython3",
   "version": "3.6.13"
  }
 },
 "nbformat": 4,
 "nbformat_minor": 5
}
